{
 "cells": [
  {
   "cell_type": "markdown",
   "metadata": {},
   "source": [
    "# ライブラリのインストール"
   ]
  },
  {
   "cell_type": "code",
   "execution_count": 3,
   "metadata": {},
   "outputs": [
    {
     "name": "stdout",
     "output_type": "stream",
     "text": [
      "Requirement already satisfied: pandas in c:\\users\\noda7\\miniconda3\\envs\\llamav2\\lib\\site-packages (from -r requirements.txt (line 1)) (2.0.3)\n",
      "Requirement already satisfied: transformers in c:\\users\\noda7\\miniconda3\\envs\\llamav2\\lib\\site-packages (from -r requirements.txt (line 2)) (4.31.0)\n",
      "Requirement already satisfied: numpy in c:\\users\\noda7\\miniconda3\\envs\\llamav2\\lib\\site-packages (from -r requirements.txt (line 3)) (1.25.1)\n",
      "Requirement already satisfied: docx2txt in c:\\users\\noda7\\miniconda3\\envs\\llamav2\\lib\\site-packages (from -r requirements.txt (line 4)) (0.8)\n",
      "Requirement already satisfied: python-dotenv in c:\\users\\noda7\\miniconda3\\envs\\llamav2\\lib\\site-packages (from -r requirements.txt (line 5)) (1.0.0)\n",
      "Collecting einops (from -r requirements.txt (line 6))\n",
      "  Using cached einops-0.6.1-py3-none-any.whl (42 kB)\n",
      "Requirement already satisfied: python-dateutil>=2.8.2 in c:\\users\\noda7\\miniconda3\\envs\\llamav2\\lib\\site-packages (from pandas->-r requirements.txt (line 1)) (2.8.2)\n",
      "Requirement already satisfied: pytz>=2020.1 in c:\\users\\noda7\\miniconda3\\envs\\llamav2\\lib\\site-packages (from pandas->-r requirements.txt (line 1)) (2023.3)\n",
      "Requirement already satisfied: tzdata>=2022.1 in c:\\users\\noda7\\miniconda3\\envs\\llamav2\\lib\\site-packages (from pandas->-r requirements.txt (line 1)) (2023.3)\n",
      "Requirement already satisfied: filelock in c:\\users\\noda7\\miniconda3\\envs\\llamav2\\lib\\site-packages (from transformers->-r requirements.txt (line 2)) (3.12.2)\n",
      "Requirement already satisfied: huggingface-hub<1.0,>=0.14.1 in c:\\users\\noda7\\miniconda3\\envs\\llamav2\\lib\\site-packages (from transformers->-r requirements.txt (line 2)) (0.16.4)\n",
      "Requirement already satisfied: packaging>=20.0 in c:\\users\\noda7\\miniconda3\\envs\\llamav2\\lib\\site-packages (from transformers->-r requirements.txt (line 2)) (23.1)\n",
      "Requirement already satisfied: pyyaml>=5.1 in c:\\users\\noda7\\miniconda3\\envs\\llamav2\\lib\\site-packages (from transformers->-r requirements.txt (line 2)) (6.0.1)\n",
      "Requirement already satisfied: regex!=2019.12.17 in c:\\users\\noda7\\miniconda3\\envs\\llamav2\\lib\\site-packages (from transformers->-r requirements.txt (line 2)) (2023.6.3)\n",
      "Requirement already satisfied: requests in c:\\users\\noda7\\miniconda3\\envs\\llamav2\\lib\\site-packages (from transformers->-r requirements.txt (line 2)) (2.31.0)\n",
      "Requirement already satisfied: tokenizers!=0.11.3,<0.14,>=0.11.1 in c:\\users\\noda7\\miniconda3\\envs\\llamav2\\lib\\site-packages (from transformers->-r requirements.txt (line 2)) (0.13.3)\n",
      "Requirement already satisfied: safetensors>=0.3.1 in c:\\users\\noda7\\miniconda3\\envs\\llamav2\\lib\\site-packages (from transformers->-r requirements.txt (line 2)) (0.3.1)\n",
      "Requirement already satisfied: tqdm>=4.27 in c:\\users\\noda7\\miniconda3\\envs\\llamav2\\lib\\site-packages (from transformers->-r requirements.txt (line 2)) (4.65.0)\n",
      "Requirement already satisfied: fsspec in c:\\users\\noda7\\miniconda3\\envs\\llamav2\\lib\\site-packages (from huggingface-hub<1.0,>=0.14.1->transformers->-r requirements.txt (line 2)) (2023.6.0)\n",
      "Requirement already satisfied: typing-extensions>=3.7.4.3 in c:\\users\\noda7\\miniconda3\\envs\\llamav2\\lib\\site-packages (from huggingface-hub<1.0,>=0.14.1->transformers->-r requirements.txt (line 2)) (4.7.1)\n",
      "Requirement already satisfied: six>=1.5 in c:\\users\\noda7\\miniconda3\\envs\\llamav2\\lib\\site-packages (from python-dateutil>=2.8.2->pandas->-r requirements.txt (line 1)) (1.16.0)\n",
      "Requirement already satisfied: colorama in c:\\users\\noda7\\miniconda3\\envs\\llamav2\\lib\\site-packages (from tqdm>=4.27->transformers->-r requirements.txt (line 2)) (0.4.6)\n",
      "Requirement already satisfied: charset-normalizer<4,>=2 in c:\\users\\noda7\\miniconda3\\envs\\llamav2\\lib\\site-packages (from requests->transformers->-r requirements.txt (line 2)) (3.2.0)\n",
      "Requirement already satisfied: idna<4,>=2.5 in c:\\users\\noda7\\miniconda3\\envs\\llamav2\\lib\\site-packages (from requests->transformers->-r requirements.txt (line 2)) (3.4)\n",
      "Requirement already satisfied: urllib3<3,>=1.21.1 in c:\\users\\noda7\\miniconda3\\envs\\llamav2\\lib\\site-packages (from requests->transformers->-r requirements.txt (line 2)) (2.0.4)\n",
      "Requirement already satisfied: certifi>=2017.4.17 in c:\\users\\noda7\\miniconda3\\envs\\llamav2\\lib\\site-packages (from requests->transformers->-r requirements.txt (line 2)) (2023.7.22)\n",
      "Installing collected packages: einops\n",
      "Successfully installed einops-0.6.1\n",
      "Note: you may need to restart the kernel to use updated packages.\n",
      "Looking in indexes: https://download.pytorch.org/whl/cu118\n",
      "Requirement already satisfied: torch in c:\\users\\noda7\\miniconda3\\envs\\llamav2\\lib\\site-packages (2.0.1+cu118)\n",
      "Requirement already satisfied: torchvision in c:\\users\\noda7\\miniconda3\\envs\\llamav2\\lib\\site-packages (0.15.2+cu118)\n",
      "Requirement already satisfied: filelock in c:\\users\\noda7\\miniconda3\\envs\\llamav2\\lib\\site-packages (from torch) (3.12.2)\n",
      "Requirement already satisfied: typing-extensions in c:\\users\\noda7\\miniconda3\\envs\\llamav2\\lib\\site-packages (from torch) (4.7.1)\n",
      "Requirement already satisfied: sympy in c:\\users\\noda7\\miniconda3\\envs\\llamav2\\lib\\site-packages (from torch) (1.11.1)\n",
      "Requirement already satisfied: networkx in c:\\users\\noda7\\miniconda3\\envs\\llamav2\\lib\\site-packages (from torch) (3.0)\n",
      "Requirement already satisfied: jinja2 in c:\\users\\noda7\\miniconda3\\envs\\llamav2\\lib\\site-packages (from torch) (3.1.2)\n",
      "Requirement already satisfied: numpy in c:\\users\\noda7\\miniconda3\\envs\\llamav2\\lib\\site-packages (from torchvision) (1.25.1)\n",
      "Requirement already satisfied: requests in c:\\users\\noda7\\miniconda3\\envs\\llamav2\\lib\\site-packages (from torchvision) (2.31.0)\n",
      "Requirement already satisfied: pillow!=8.3.*,>=5.3.0 in c:\\users\\noda7\\miniconda3\\envs\\llamav2\\lib\\site-packages (from torchvision) (9.3.0)\n",
      "Requirement already satisfied: MarkupSafe>=2.0 in c:\\users\\noda7\\miniconda3\\envs\\llamav2\\lib\\site-packages (from jinja2->torch) (2.1.2)\n",
      "Requirement already satisfied: charset-normalizer<4,>=2 in c:\\users\\noda7\\miniconda3\\envs\\llamav2\\lib\\site-packages (from requests->torchvision) (3.2.0)\n",
      "Requirement already satisfied: idna<4,>=2.5 in c:\\users\\noda7\\miniconda3\\envs\\llamav2\\lib\\site-packages (from requests->torchvision) (3.4)\n",
      "Requirement already satisfied: urllib3<3,>=1.21.1 in c:\\users\\noda7\\miniconda3\\envs\\llamav2\\lib\\site-packages (from requests->torchvision) (2.0.4)\n",
      "Requirement already satisfied: certifi>=2017.4.17 in c:\\users\\noda7\\miniconda3\\envs\\llamav2\\lib\\site-packages (from requests->torchvision) (2023.7.22)\n",
      "Requirement already satisfied: mpmath>=0.19 in c:\\users\\noda7\\miniconda3\\envs\\llamav2\\lib\\site-packages (from sympy->torch) (1.2.1)\n",
      "Note: you may need to restart the kernel to use updated packages.\n",
      "Collecting package metadata (current_repodata.json): ...working... done\n",
      "Solving environment: ...working... done\n",
      "\n",
      "# All requested packages already installed.\n",
      "\n",
      "\n",
      "Note: you may need to restart the kernel to use updated packages.\n"
     ]
    }
   ],
   "source": [
    "%pip install -r requirements.txt\n",
    "%pip install torch torchvision --index-url https://download.pytorch.org/whl/cu118\n",
    "%conda install faiss-gpu"
   ]
  },
  {
   "cell_type": "markdown",
   "metadata": {},
   "source": [
    "# Hugging Faceへのログイン"
   ]
  },
  {
   "cell_type": "markdown",
   "metadata": {},
   "source": [
    ".envファイルを作成し、Hugging FaceのAccess Tokenを設定する。  \n",
    ".env記載例：\n",
    "```\n",
    "hugging_face_token='xxxxxxxxxxxxx'\n",
    "```"
   ]
  },
  {
   "cell_type": "markdown",
   "metadata": {},
   "source": [
    "# lightblue/japanese-mpt-7bの検証"
   ]
  },
  {
   "cell_type": "markdown",
   "metadata": {},
   "source": [
    "https://huggingface.co/lightblue/japanese-mpt-7b"
   ]
  },
  {
   "cell_type": "markdown",
   "metadata": {},
   "source": []
  }
 ],
 "metadata": {
  "kernelspec": {
   "display_name": "llamav2",
   "language": "python",
   "name": "python3"
  },
  "language_info": {
   "codemirror_mode": {
    "name": "ipython",
    "version": 3
   },
   "file_extension": ".py",
   "mimetype": "text/x-python",
   "name": "python",
   "nbconvert_exporter": "python",
   "pygments_lexer": "ipython3",
   "version": "3.10.12"
  },
  "orig_nbformat": 4
 },
 "nbformat": 4,
 "nbformat_minor": 2
}
